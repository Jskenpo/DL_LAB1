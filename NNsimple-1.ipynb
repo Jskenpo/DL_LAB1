{
 "cells": [
  {
   "cell_type": "code",
   "execution_count": 25,
   "id": "aec01c69-10ff-4511-b1bd-9868bd9a817a",
   "metadata": {
    "ExecuteTime": {
     "end_time": "2024-07-26T21:56:08.123013Z",
     "start_time": "2024-07-26T21:56:07.843141Z"
    }
   },
   "outputs": [],
   "source": [
    "#!/usr/bin/env python\n",
    "# -*- coding: utf-8 -*-\n",
    "\n",
    "import numpy as np"
   ]
  },
  {
   "cell_type": "code",
   "execution_count": 26,
   "id": "57a0d0a3-bce8-4c38-8519-de438453d9c9",
   "metadata": {
    "ExecuteTime": {
     "end_time": "2024-07-26T21:56:12.606188Z",
     "start_time": "2024-07-26T21:56:12.603050Z"
    }
   },
   "outputs": [],
   "source": [
    "# Funcion de activacion \n",
    "def sigmoid(z):\n",
    "    return 1/(1 + np.exp(-z))"
   ]
  },
  {
   "cell_type": "code",
   "execution_count": 27,
   "id": "116b55fd-9a7a-4b44-9539-d4872bbe498c",
   "metadata": {
    "ExecuteTime": {
     "end_time": "2024-07-26T22:00:09.240146Z",
     "start_time": "2024-07-26T22:00:09.228378Z"
    }
   },
   "outputs": [],
   "source": [
    "# Inicializacion de los parametros \n",
    "def initialize_parameters(n_x, n_h, n_y):\n",
    "    W1 = np.random.randn(n_h, n_x)\n",
    "    b1 = np.random.randn(n_h, 1)\n",
    "    W2 = np.random.randn(n_y, n_h)\n",
    "    b2 = np.random.randn(n_y, 1)\n",
    "    \n",
    "    parameters = {\n",
    "        \"W1\": W1,\n",
    "        \"b1\" : b1,\n",
    "        \"W2\": W2,\n",
    "        \"b2\" : b2\n",
    "    }\n",
    "    return parameters"
   ]
  },
  {
   "cell_type": "code",
   "execution_count": 28,
   "id": "d6be7ae9-04d0-4d6a-9c01-5a7eac130dfa",
   "metadata": {
    "ExecuteTime": {
     "end_time": "2024-07-26T21:56:14.124719Z",
     "start_time": "2024-07-26T21:56:14.121429Z"
    }
   },
   "outputs": [],
   "source": [
    "def forward_prop(X, parameters):\n",
    "    W1 = parameters[\"W1\"]\n",
    "    b1 = parameters[\"b1\"]\n",
    "    W2 = parameters[\"W2\"]\n",
    "    b2 = parameters[\"b2\"]\n",
    "\n",
    "    Z1 = np.dot(W1, X) + b1\n",
    "    A1 = np.tanh(Z1)\n",
    "    Z2 = np.dot(W2, A1) + b2\n",
    "    A2 = sigmoid(Z2)\n",
    "\n",
    "    cache = {\n",
    "        \"A1\": A1,\n",
    "        \"A2\": A2\n",
    "    }\n",
    "    return A2, cache"
   ]
  },
  {
   "cell_type": "code",
   "execution_count": 29,
   "id": "b9955bcc-5d7a-4835-92a3-e8a14b17075a",
   "metadata": {
    "ExecuteTime": {
     "end_time": "2024-07-26T21:59:21.621142Z",
     "start_time": "2024-07-26T21:59:21.608741Z"
    }
   },
   "outputs": [],
   "source": [
    "# Funcion de perdida\n",
    "def mse_loss_function(A2, Y):\n",
    "    m = Y.shape[1]\n",
    "    cost = np.sum(np.square(A2 - Y)) / m\n",
    "    return cost"
   ]
  },
  {
   "cell_type": "code",
   "execution_count": 30,
   "id": "c44babe6-3b89-4ae1-afa0-c0d67963db7b",
   "metadata": {
    "ExecuteTime": {
     "end_time": "2024-07-26T21:59:00.143312Z",
     "start_time": "2024-07-26T21:59:00.135020Z"
    }
   },
   "outputs": [],
   "source": [
    "def backward_prop(X, Y, cache, parameters):\n",
    "    A1 = cache[\"A1\"]\n",
    "    A2 = cache[\"A2\"]\n",
    "\n",
    "    W2 = parameters[\"W2\"]\n",
    "\n",
    "    dZ2 = A2 - Y\n",
    "    dW2 = np.dot(dZ2, A1.T)/m\n",
    "    db2 = np.sum(dZ2, axis=1, keepdims=True)/m\n",
    "    dZ1 = np.multiply(np.dot(W2.T, dZ2), 1-np.power(A1, 2))\n",
    "    dW1 = np.dot(dZ1, X.T)/m\n",
    "    db1 = np.sum(dZ1, axis=1, keepdims=True)/m\n",
    "\n",
    "    grads = {\n",
    "        \"dW1\": dW1,\n",
    "        \"db1\": db1,\n",
    "        \"dW2\": dW2,\n",
    "        \"db2\": db2\n",
    "    }\n",
    "\n",
    "    return grads"
   ]
  },
  {
   "cell_type": "code",
   "execution_count": 31,
   "id": "46551921-f9de-469c-803b-1d3178de2e63",
   "metadata": {
    "ExecuteTime": {
     "end_time": "2024-07-26T21:56:16.164320Z",
     "start_time": "2024-07-26T21:56:16.160744Z"
    }
   },
   "outputs": [],
   "source": [
    "def update_parameters(parameters, grads, learning_rate):\n",
    "    W1 = parameters[\"W1\"]\n",
    "    b1 = parameters[\"b1\"]\n",
    "    W2 = parameters[\"W2\"]\n",
    "    b2 = parameters[\"b2\"]\n",
    "\n",
    "    dW1 = grads[\"dW1\"]\n",
    "    db1 = grads[\"db1\"]\n",
    "    dW2 = grads[\"dW2\"]\n",
    "    db2 = grads[\"db2\"]\n",
    "\n",
    "    W1 = W1 - learning_rate*dW1\n",
    "    b1 = b1 - learning_rate*db1\n",
    "    W2 = W2 - learning_rate*dW2\n",
    "    b2 = b2 - learning_rate*db2\n",
    "    \n",
    "    new_parameters = {\n",
    "        \"W1\": W1,\n",
    "        \"W2\": W2,\n",
    "        \"b1\" : b1,\n",
    "        \"b2\" : b2\n",
    "    }\n",
    "\n",
    "    return new_parameters"
   ]
  },
  {
   "cell_type": "code",
   "execution_count": 32,
   "id": "d570771f-8737-448d-a26a-a29e6f0adb16",
   "metadata": {
    "ExecuteTime": {
     "end_time": "2024-07-26T21:59:14.094293Z",
     "start_time": "2024-07-26T21:59:14.087913Z"
    }
   },
   "outputs": [],
   "source": [
    "def model(X, Y, n_x, n_h, n_y, num_of_iters, learning_rate):\n",
    "    parameters = initialize_parameters(n_x, n_h, n_y)\n",
    "    costs= []\n",
    "\n",
    "    for i in range(0, num_of_iters+1):\n",
    "        a2, cache = forward_prop(X, parameters)\n",
    "\n",
    "        cost = mse_loss_function(a2, Y)\n",
    "\n",
    "        grads = backward_prop(X, Y, cache, parameters)\n",
    "\n",
    "        parameters = update_parameters(parameters, grads, learning_rate)\n",
    "\n",
    "        if(i%100 == 0):\n",
    "            costs.append(cost)\n",
    "            print('Cost after iteration# {:d}: {:f}'.format(i, cost))\n",
    "\n",
    "    return parameters, costs"
   ]
  },
  {
   "cell_type": "code",
   "execution_count": 33,
   "id": "7d18e70d-67e2-45b0-8fe6-25425837ce26",
   "metadata": {
    "ExecuteTime": {
     "end_time": "2024-07-26T21:56:19.879371Z",
     "start_time": "2024-07-26T21:56:19.874774Z"
    }
   },
   "outputs": [],
   "source": [
    "def predict(X, parameters):\n",
    "    a2, cache = forward_prop(X, parameters)\n",
    "    yhat = a2\n",
    "    yhat = np.squeeze(yhat)\n",
    "    if(yhat >= 0.5):\n",
    "        y_predict = 1\n",
    "    else:\n",
    "        y_predict = 0\n",
    "\n",
    "    return y_predict"
   ]
  },
  {
   "cell_type": "code",
   "execution_count": 34,
   "id": "d88cffb5-e998-4533-aa74-243088c76171",
   "metadata": {
    "ExecuteTime": {
     "end_time": "2024-07-26T22:00:12.409074Z",
     "start_time": "2024-07-26T22:00:12.354124Z"
    }
   },
   "outputs": [
    {
     "name": "stdout",
     "output_type": "stream",
     "text": [
      "Cost after iteration# 0: 0.357529\n",
      "Cost after iteration# 100: 0.250383\n",
      "Cost after iteration# 200: 0.249958\n",
      "Cost after iteration# 300: 0.249750\n",
      "Cost after iteration# 400: 0.249391\n",
      "Cost after iteration# 500: 0.248007\n",
      "Cost after iteration# 600: 0.182946\n",
      "Cost after iteration# 700: 0.134526\n",
      "Cost after iteration# 800: 0.129151\n",
      "Cost after iteration# 900: 0.127603\n",
      "Cost after iteration# 1000: 0.126885\n",
      "prediction: [[0.50251411]]\n",
      "W1:\n",
      "[[-3.47741087 -1.7354283 ]\n",
      " [-3.8730281   2.46419734]]\n",
      "W2:\n",
      "[[-3.19808736  3.21043544]]\n",
      "b1:\n",
      "[[ 0.51091584]\n",
      " [-1.69520283]]\n",
      "b2:\n",
      "[[0.01003158]]\n"
     ]
    }
   ],
   "source": [
    "np.random.seed(2)\n",
    "\n",
    "# The 4 training examples by columns\n",
    "X = np.array([[0, 0, 1, 1], [0, 1, 0, 1]])\n",
    "\n",
    "# The outputs of the XOR for every example in X\n",
    "Y = np.array([[0, 1, 1, 0]])\n",
    "\n",
    "# No. of training examples\n",
    "m = X.shape[1]\n",
    "\n",
    "# Set the hyperparameters\n",
    "n_x = 2     #No. of neurons in first layer\n",
    "n_h = 2     #No. of neurons in hidden layer\n",
    "n_y = 1     #No. of neurons in output layer\n",
    "num_of_iters = 1000\n",
    "learning_rate = 0.5\n",
    "\n",
    "trained_parameters, costs = model(X, Y, n_x, n_h, n_y, num_of_iters, learning_rate)\n",
    "\n",
    "X_test = np.array([[1], [1]])\n",
    "prediction, _ = forward_prop(X_test, trained_parameters)\n",
    "\n",
    "print(f'prediction: {prediction}')\n",
    "\n",
    "#final parameters\n",
    "for key, value in trained_parameters.items():\n",
    "    print(f\"{key}:\\n{value}\")"
   ]
  },
  {
   "cell_type": "code",
   "execution_count": 35,
   "id": "903bdab6",
   "metadata": {},
   "outputs": [
    {
     "data": {
      "image/png": "[encoded data removed]",
      "text/plain": [
       "<Figure size 640x480 with 1 Axes>"
      ]
     },
     "metadata": {},
     "output_type": "display_data"
    }
   ],
   "source": [
    "#plot the cost\n",
    "import matplotlib.pyplot as plt\n",
    "plt.plot(costs)\n",
    "plt.ylabel('cost')\n",
    "plt.xlabel('iterations (per hundreds)')\n",
    "plt.title('Cost reduction over time')\n",
    "plt.show()"
   ]
  }
 ],
 "metadata": {
  "kernelspec": {
   "display_name": "Python 3 (ipykernel)",
   "language": "python",
   "name": "python3"
  },
  "language_info": {
   "codemirror_mode": {
    "name": "ipython",
    "version": 3
   },
   "file_extension": ".py",
   "mimetype": "text/x-python",
   "name": "python",
   "nbconvert_exporter": "python",
   "pygments_lexer": "ipython3",
   "version": "3.11.7"
  }
 },
 "nbformat": 4,
 "nbformat_minor": 5
}
